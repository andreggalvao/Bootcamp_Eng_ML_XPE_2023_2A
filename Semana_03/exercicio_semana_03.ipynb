{
 "cells": [
  {
   "cell_type": "code",
   "execution_count": 30,
   "metadata": {},
   "outputs": [],
   "source": [
    "import pandas as pd\n",
    "import numpy as np\n",
    "import seaborn as sns\n",
    "import matplotlib.pyplot as plt\n",
    "from sklearn import metrics\n",
    "from sklearn.datasets import make_blobs\n",
    "from sklearn.cluster import KMeans\n",
    "from sklearn.metrics import silhouette_samples, silhouette_score\n",
    "\n",
    "import matplotlib.pyplot as plt\n",
    "import matplotlib.cm as cm\n",
    "import numpy as np\n",
    "\n",
    "from sklearn.model_selection import train_test_split\n",
    "from sklearn.neighbors import KNeighborsClassifier\n",
    "from sklearn.svm import SVC\n",
    "from sklearn.linear_model import LinearRegression\n",
    "from sklearn.metrics import r2_score, mean_absolute_error, mean_squared_error\n",
    "from sklearn.metrics import accuracy_score, precision_score, recall_score, f1_score, roc_auc_score, confusion_matrix\n",
    "\n",
    "from sklearn.metrics import silhouette_score, davies_bouldin_score, mutual_info_score\n",
    "from sklearn.cluster import KMeans"
   ]
  },
  {
   "cell_type": "code",
   "execution_count": 31,
   "metadata": {},
   "outputs": [],
   "source": [
    "# Baixando os dados\n",
    "\n",
    "blood = pd.read_csv('Cópia de bloodtransf.csv')\n",
    "diabetes = pd.read_csv('Cópia de diabetes_numeric.csv')\n",
    "wine = pd.read_csv('Cópia de wine.csv')\n"
   ]
  },
  {
   "cell_type": "code",
   "execution_count": 32,
   "metadata": {},
   "outputs": [
    {
     "name": "stdout",
     "output_type": "stream",
     "text": [
      "<class 'pandas.core.frame.DataFrame'>\n",
      "RangeIndex: 748 entries, 0 to 747\n",
      "Data columns (total 5 columns):\n",
      " #   Column  Non-Null Count  Dtype\n",
      "---  ------  --------------  -----\n",
      " 0   V1      748 non-null    int64\n",
      " 1   V2      748 non-null    int64\n",
      " 2   V3      748 non-null    int64\n",
      " 3   V4      748 non-null    int64\n",
      " 4   Class   748 non-null    int64\n",
      "dtypes: int64(5)\n",
      "memory usage: 29.3 KB\n",
      "None\n",
      " \n",
      "               V1          V2            V3          V4       Class\n",
      "count  748.000000  748.000000    748.000000  748.000000  748.000000\n",
      "mean     9.506684    5.514706   1378.676471   34.282086    1.237968\n",
      "std      8.095396    5.839307   1459.826781   24.376714    0.426124\n",
      "min      0.000000    1.000000    250.000000    2.000000    1.000000\n",
      "25%      2.750000    2.000000    500.000000   16.000000    1.000000\n",
      "50%      7.000000    4.000000   1000.000000   28.000000    1.000000\n",
      "75%     14.000000    7.000000   1750.000000   50.000000    1.000000\n",
      "max     74.000000   50.000000  12500.000000   98.000000    2.000000\n",
      " \n",
      "V1       0\n",
      "V2       0\n",
      "V3       0\n",
      "V4       0\n",
      "Class    0\n",
      "dtype: int64\n"
     ]
    }
   ],
   "source": [
    "# Avaliando as informações dos dados\n",
    "\n",
    "print(blood.info())\n",
    "print(' ')\n",
    "print(blood.describe())\n",
    "print(' ')\n",
    "print(blood.isna().sum())"
   ]
  },
  {
   "cell_type": "code",
   "execution_count": 33,
   "metadata": {},
   "outputs": [
    {
     "name": "stdout",
     "output_type": "stream",
     "text": [
      "<class 'pandas.core.frame.DataFrame'>\n",
      "RangeIndex: 43 entries, 0 to 42\n",
      "Data columns (total 3 columns):\n",
      " #   Column     Non-Null Count  Dtype  \n",
      "---  ------     --------------  -----  \n",
      " 0   age        43 non-null     float64\n",
      " 1   deficit    43 non-null     float64\n",
      " 2   c_peptide  43 non-null     float64\n",
      "dtypes: float64(3)\n",
      "memory usage: 1.1 KB\n",
      "None\n",
      " \n",
      "             age    deficit  c_peptide\n",
      "count  43.000000  43.000000  43.000000\n",
      "mean    9.032558  -8.148837   4.746512\n",
      "std     4.022539   7.123080   0.720565\n",
      "min     0.900000 -29.000000   3.000000\n",
      "25%     5.500000 -12.700000   4.450000\n",
      "50%    10.400000  -7.800000   4.900000\n",
      "75%    11.850000  -2.000000   5.100000\n",
      "max    15.600000  -0.200000   6.600000\n",
      " \n",
      "age          0\n",
      "deficit      0\n",
      "c_peptide    0\n",
      "dtype: int64\n"
     ]
    }
   ],
   "source": [
    "# Avaliando as informações dos dados\n",
    "\n",
    "print(diabetes.info())\n",
    "print(' ')\n",
    "print(diabetes.describe())\n",
    "print(' ')\n",
    "print(diabetes.isna().sum())\n",
    "\n"
   ]
  },
  {
   "cell_type": "code",
   "execution_count": 34,
   "metadata": {},
   "outputs": [
    {
     "name": "stdout",
     "output_type": "stream",
     "text": [
      "<class 'pandas.core.frame.DataFrame'>\n",
      "RangeIndex: 178 entries, 0 to 177\n",
      "Data columns (total 14 columns):\n",
      " #   Column                          Non-Null Count  Dtype  \n",
      "---  ------                          --------------  -----  \n",
      " 0   class                           178 non-null    int64  \n",
      " 1   Alcohol                         178 non-null    float64\n",
      " 2   Malic_acid                      178 non-null    float64\n",
      " 3   Ash                             178 non-null    float64\n",
      " 4   Alcalinity_of_ash               178 non-null    float64\n",
      " 5   Magnesium                       178 non-null    int64  \n",
      " 6   Total_phenols                   178 non-null    float64\n",
      " 7   Flavanoids                      178 non-null    float64\n",
      " 8   Nonflavanoid_phenols            178 non-null    float64\n",
      " 9   Proanthocyanins                 178 non-null    float64\n",
      " 10  Color_intensity                 178 non-null    float64\n",
      " 11  Hue                             178 non-null    float64\n",
      " 12  OD280%2FOD315_of_diluted_wines  178 non-null    float64\n",
      " 13  Proline                         178 non-null    int64  \n",
      "dtypes: float64(11), int64(3)\n",
      "memory usage: 19.6 KB\n",
      "None\n",
      " \n",
      "                                count        mean         std     min  \\\n",
      "class                           178.0    1.938202    0.775035    1.00   \n",
      "Alcohol                         178.0   13.000618    0.811827   11.03   \n",
      "Malic_acid                      178.0    2.336348    1.117146    0.74   \n",
      "Ash                             178.0    2.366517    0.274344    1.36   \n",
      "Alcalinity_of_ash               178.0   19.494944    3.339564   10.60   \n",
      "Magnesium                       178.0   99.741573   14.282484   70.00   \n",
      "Total_phenols                   178.0    2.295112    0.625851    0.98   \n",
      "Flavanoids                      178.0    2.029270    0.998859    0.34   \n",
      "Nonflavanoid_phenols            178.0    0.361854    0.124453    0.13   \n",
      "Proanthocyanins                 178.0    1.590899    0.572359    0.41   \n",
      "Color_intensity                 178.0    5.058090    2.318286    1.28   \n",
      "Hue                             178.0    0.957449    0.228572    0.48   \n",
      "OD280%2FOD315_of_diluted_wines  178.0    2.611685    0.709990    1.27   \n",
      "Proline                         178.0  746.893258  314.907474  278.00   \n",
      "\n",
      "                                     25%      50%       75%      max  \n",
      "class                             1.0000    2.000    3.0000     3.00  \n",
      "Alcohol                          12.3625   13.050   13.6775    14.83  \n",
      "Malic_acid                        1.6025    1.865    3.0825     5.80  \n",
      "Ash                               2.2100    2.360    2.5575     3.23  \n",
      "Alcalinity_of_ash                17.2000   19.500   21.5000    30.00  \n",
      "Magnesium                        88.0000   98.000  107.0000   162.00  \n",
      "Total_phenols                     1.7425    2.355    2.8000     3.88  \n",
      "Flavanoids                        1.2050    2.135    2.8750     5.08  \n",
      "Nonflavanoid_phenols              0.2700    0.340    0.4375     0.66  \n",
      "Proanthocyanins                   1.2500    1.555    1.9500     3.58  \n",
      "Color_intensity                   3.2200    4.690    6.2000    13.00  \n",
      "Hue                               0.7825    0.965    1.1200     1.71  \n",
      "OD280%2FOD315_of_diluted_wines    1.9375    2.780    3.1700     4.00  \n",
      "Proline                         500.5000  673.500  985.0000  1680.00  \n",
      " \n",
      "class                             0\n",
      "Alcohol                           0\n",
      "Malic_acid                        0\n",
      "Ash                               0\n",
      "Alcalinity_of_ash                 0\n",
      "Magnesium                         0\n",
      "Total_phenols                     0\n",
      "Flavanoids                        0\n",
      "Nonflavanoid_phenols              0\n",
      "Proanthocyanins                   0\n",
      "Color_intensity                   0\n",
      "Hue                               0\n",
      "OD280%2FOD315_of_diluted_wines    0\n",
      "Proline                           0\n",
      "dtype: int64\n"
     ]
    }
   ],
   "source": [
    "# Avaliando as informações dos dados\n",
    "\n",
    "print(wine.info())\n",
    "print(' ')\n",
    "print(wine.describe().T)\n",
    "print(' ')\n",
    "print(wine.isna().sum())\n",
    "\n"
   ]
  },
  {
   "cell_type": "code",
   "execution_count": 35,
   "metadata": {},
   "outputs": [
    {
     "name": "stdout",
     "output_type": "stream",
     "text": [
      "R2: 0.02\n",
      "MAE: 0.53\n",
      "MSE: 0.44\n"
     ]
    }
   ],
   "source": [
    "# Avaliando o dataset Diabetes com Linear Regression\n",
    "\n",
    "X = diabetes.iloc[:, :-1]\n",
    "y = diabetes.iloc[:, -1]\n",
    "\n",
    "modelo_lr = LinearRegression()\n",
    "\n",
    "X_train, X_test, y_train, y_test = train_test_split(X, y, test_size=0.37, random_state = 5762)\n",
    "\n",
    "modelo_lr.fit(X_train, y_train)\n",
    "\n",
    "y_pred = modelo_lr.predict(X_test)\n",
    "\n",
    "# Calcula o coeficiente de determinação R2\n",
    "r2 = r2_score(y_test, y_pred)\n",
    "print(\"R2: {:.2f}\".format(r2))\n",
    "\n",
    "# Calcula o erro absoluto médio (MAE)\n",
    "mae = mean_absolute_error(y_test, y_pred)\n",
    "print(\"MAE: {:.2f}\".format(mae))\n",
    "\n",
    "# Calcula o erro quadrático médio (MSE)\n",
    "mse = mean_squared_error(y_test, y_pred)\n",
    "print(\"MSE: {:.2f}\".format(mse))\n",
    "\n",
    "\n"
   ]
  },
  {
   "cell_type": "code",
   "execution_count": 36,
   "metadata": {},
   "outputs": [
    {
     "data": {
      "image/png": "[encoded data removed]",
      "text/plain": [
       "<Figure size 640x480 with 2 Axes>"
      ]
     },
     "metadata": {},
     "output_type": "display_data"
    },
    {
     "name": "stdout",
     "output_type": "stream",
     "text": [
      "Acurácia: 78.70%\n",
      "Precisão: 79.55%\n",
      "Recall: 98.17%\n",
      "F1: 87.89%\n",
      "AUROC: 52.47%\n"
     ]
    }
   ],
   "source": [
    "# Avaliando o dataset Diabetes com Linear Regression\n",
    "\n",
    "X = blood.iloc[:, :-1]\n",
    "y = blood.iloc[:, -1]\n",
    "\n",
    "modelo_svc = SVC(kernel='rbf')\n",
    "\n",
    "X_train, X_test, y_train, y_test = train_test_split(X, y, test_size=0.37, random_state = 5762)\n",
    "\n",
    "modelo_svc.fit(X_train, y_train)\n",
    "\n",
    "y_pred = modelo_svc.predict(X_test)\n",
    "\n",
    "\n",
    "# Calcula a matriz de confusão\n",
    "cm = confusion_matrix(y_test, y_pred)\n",
    "\n",
    "# Plota a matriz de confusão utilizando a biblioteca Seaborn\n",
    "sns.heatmap(cm, annot=True, fmt='g')\n",
    "plt.xlabel('Previsto')\n",
    "plt.ylabel('Verdadeiro')\n",
    "plt.show()\n",
    "\n",
    "\n",
    "\n",
    " #Calcula a acurácia\n",
    "acuracia = accuracy_score(y_test, y_pred)\n",
    "print(\"Acurácia: {:.2f}%\".format(acuracia * 100))\n",
    "\n",
    " #Calcula a precisão\n",
    "precisao = precision_score(y_test, y_pred)\n",
    "print(\"Precisão: {:.2f}%\".format(precisao * 100))\n",
    "\n",
    " #Calcula o recall\n",
    "recall = recall_score(y_test, y_pred)\n",
    "print(\"Recall: {:.2f}%\".format(recall * 100))\n",
    "\n",
    " #Calcula a medida F1\n",
    "f1 = f1_score(y_test, y_pred)\n",
    "print(\"F1: {:.2f}%\".format(f1 * 100))\n",
    "\n",
    " #Calcula a área sob a curva ROC (AUROC)\n",
    "auroc = roc_auc_score(y_test, y_pred)\n",
    "print(\"AUROC: {:.2f}%\".format(auroc * 100))\n"
   ]
  },
  {
   "cell_type": "code",
   "execution_count": 37,
   "metadata": {},
   "outputs": [
    {
     "name": "stdout",
     "output_type": "stream",
     "text": [
      "Para o n_clusters = 2 A média do silhouette_score é : 0.5027740345905246 e A média do davies_bouldin_score é: 0.7234249737352209\n",
      "Para o n_clusters = 2 A média do mutual_info_score é : 0.6074642687464912\n",
      "Para o n_clusters = 3 A média do silhouette_score é : 0.4204361167334279 e A média do davies_bouldin_score é: 0.769589400285806\n",
      "Para o n_clusters = 3 A média do mutual_info_score é : 0.671685698547302\n",
      "Para o n_clusters = 4 A média do silhouette_score é : 0.4022392238287289 e A média do davies_bouldin_score é: 0.7953648418709272\n",
      "Para o n_clusters = 4 A média do mutual_info_score é : 0.9811642242879363\n",
      "Para o n_clusters = 5 A média do silhouette_score é : 0.32687111677736874 e A média do davies_bouldin_score é: 0.957290449861306\n",
      "Para o n_clusters = 5 A média do mutual_info_score é : 1.1522220955057354\n",
      "Para o n_clusters = 6 A média do silhouette_score é : 0.2655344488123591 e A média do davies_bouldin_score é: 1.1099821489430737\n",
      "Para o n_clusters = 6 A média do mutual_info_score é : 1.373788961756275\n"
     ]
    }
   ],
   "source": [
    "# Avaliando o dataset Diabetes com Linear Regression\n",
    "\n",
    "\n",
    "X = wine.iloc[:, :-1]\n",
    "y = wine.iloc[:, -1]\n",
    "\n",
    "modelo_knn = KMeans(random_state = 5762)\n",
    "\n",
    "X_train, X_test, y_train, y_test = train_test_split(X, y, test_size=0.37, random_state = 5762)\n",
    "\n",
    "\n",
    "range_n_clusters = [2, 3, 4, 5, 6]\n",
    "\n",
    "for n_clusters in range_n_clusters:\n",
    "\n",
    "    clusterer = KMeans(n_clusters=n_clusters, n_init=\"auto\", random_state=5762)\n",
    "    cluster_labels = clusterer.fit_predict(X)\n",
    "\n",
    "    silhouette_avg = silhouette_score(X, cluster_labels)\n",
    "\n",
    "    # O valor do silhouette_score varia de -1 a 1. Um valor de +1 indica que o ponto está muito bem ajustado em seu cluster e muito distante dos pontos em outros clusters. \n",
    "    # Um valor de -1 indica que o ponto pode estar no cluster errado.\n",
    "    davies_bouldin_avg = davies_bouldin_score(X, cluster_labels)\n",
    "    print(\"Para o n_clusters =\", n_clusters, \"A média do silhouette_score é :\",silhouette_avg, \"e A média do davies_bouldin_score é:\",davies_bouldin_avg )\n",
    "\n",
    "    #O davies_bouldin_score é uma métrica que calcula a relação entre a dispersão dentro dos clusters e a dispersão entre os clusters, e quanto menor o score, melhor o desempenho do modelo.\n",
    "\n",
    "\n",
    "    cluster_labels_test = clusterer.fit_predict(X_test)\n",
    "    mutual_info_score_avg = mutual_info_score(y_test, cluster_labels_test)\n",
    "    print(\"Para o n_clusters =\", n_clusters, \"A média do mutual_info_score é :\",mutual_info_score_avg)\n",
    "    # valor do mutual_info_score varia de 0 a 1, sendo que um valor mais alto indica uma melhor correspondência entre as etiquetas reais e as etiquetas previstas.\n",
    "\n"
   ]
  },
  {
   "cell_type": "code",
   "execution_count": 38,
   "metadata": {},
   "outputs": [
    {
     "name": "stdout",
     "output_type": "stream",
     "text": [
      "(112, 13)\n",
      "(66, 13)\n",
      "(112,)\n",
      "(66,)\n",
      "(178,)\n"
     ]
    }
   ],
   "source": [
    "print(X_train.shape)\n",
    "print(X_test.shape)\n",
    "print(y_train.shape)\n",
    "print(y_test.shape)\n",
    "print(cluster_labels.shape)\n"
   ]
  },
  {
   "attachments": {},
   "cell_type": "markdown",
   "metadata": {},
   "source": [
    "# Respondendo as questões"
   ]
  },
  {
   "cell_type": "code",
   "execution_count": 42,
   "metadata": {},
   "outputs": [
    {
     "data": {
      "text/plain": [
       "(43, 3)"
      ]
     },
     "execution_count": 42,
     "metadata": {},
     "output_type": "execute_result"
    }
   ],
   "source": [
    "# Pergunta 1\n",
    "diabetes.shape\n",
    "# shape retorna (linhas/exemplos/instancias, atributos/classes/variáveis)"
   ]
  },
  {
   "cell_type": "code",
   "execution_count": 41,
   "metadata": {},
   "outputs": [
    {
     "data": {
      "text/plain": [
       "(748, 5)"
      ]
     },
     "execution_count": 41,
     "metadata": {},
     "output_type": "execute_result"
    }
   ],
   "source": [
    "# Pergunta 2\n",
    "blood.shape"
   ]
  },
  {
   "cell_type": "code",
   "execution_count": 48,
   "metadata": {},
   "outputs": [
    {
     "name": "stdout",
     "output_type": "stream",
     "text": [
      "3\n",
      "(178, 14)\n"
     ]
    }
   ],
   "source": [
    "# Pergunta 3\n",
    "print(wine['class'].nunique())\n",
    "print(wine.shape)"
   ]
  },
  {
   "cell_type": "code",
   "execution_count": 49,
   "metadata": {},
   "outputs": [
    {
     "name": "stdout",
     "output_type": "stream",
     "text": [
      "age          0\n",
      "deficit      0\n",
      "c_peptide    0\n",
      "dtype: int64\n",
      "V1       0\n",
      "V2       0\n",
      "V3       0\n",
      "V4       0\n",
      "Class    0\n",
      "dtype: int64\n",
      "class                             0\n",
      "Alcohol                           0\n",
      "Malic_acid                        0\n",
      "Ash                               0\n",
      "Alcalinity_of_ash                 0\n",
      "Magnesium                         0\n",
      "Total_phenols                     0\n",
      "Flavanoids                        0\n",
      "Nonflavanoid_phenols              0\n",
      "Proanthocyanins                   0\n",
      "Color_intensity                   0\n",
      "Hue                               0\n",
      "OD280%2FOD315_of_diluted_wines    0\n",
      "Proline                           0\n",
      "dtype: int64\n"
     ]
    }
   ],
   "source": [
    "# Pergunta 4\n",
    "print(diabetes.isna().sum())\n",
    "print(blood.isna().sum())\n",
    "print(wine.isna().sum())"
   ]
  },
  {
   "cell_type": "code",
   "execution_count": 50,
   "metadata": {},
   "outputs": [
    {
     "name": "stdout",
     "output_type": "stream",
     "text": [
      "R2: 0.02\n",
      "MAE: 0.53\n",
      "MSE: 0.44\n"
     ]
    }
   ],
   "source": [
    "# Pergunta 5/6/7\n",
    "# Avaliando o dataset Diabetes com Linear Regression\n",
    "\n",
    "X = diabetes.iloc[:, :-1]\n",
    "y = diabetes.iloc[:, -1]\n",
    "\n",
    "modelo_lr = LinearRegression()\n",
    "\n",
    "X_train, X_test, y_train, y_test = train_test_split(X, y, test_size=0.37, random_state = 5762)\n",
    "\n",
    "modelo_lr.fit(X_train, y_train)\n",
    "\n",
    "y_pred = modelo_lr.predict(X_test)\n",
    "\n",
    "# Calcula o coeficiente de determinação R2\n",
    "r2 = r2_score(y_test, y_pred)\n",
    "print(\"R2: {:.2f}\".format(r2))\n",
    "\n",
    "# Calcula o erro absoluto médio (MAE)\n",
    "mae = mean_absolute_error(y_test, y_pred)\n",
    "print(\"MAE: {:.2f}\".format(mae))\n",
    "\n",
    "# Calcula o erro quadrático médio (MSE)\n",
    "mse = mean_squared_error(y_test, y_pred)\n",
    "print(\"MSE: {:.2f}\".format(mse))\n",
    "\n",
    "\n"
   ]
  },
  {
   "cell_type": "code",
   "execution_count": 51,
   "metadata": {},
   "outputs": [
    {
     "name": "stdout",
     "output_type": "stream",
     "text": [
      "Acurácia: 78.70%\n",
      "Precisão: 79.55%\n",
      "Recall: 98.17%\n",
      "F1: 87.89%\n",
      "AUROC: 52.47%\n"
     ]
    }
   ],
   "source": [
    "# Pergunta 8/9/10/11\n",
    "\n",
    "# Avaliando o dataset Diabetes com Linear Regression\n",
    "\n",
    "X = blood.iloc[:, :-1]\n",
    "y = blood.iloc[:, -1]\n",
    "\n",
    "modelo_svc = SVC(kernel='rbf')\n",
    "\n",
    "X_train, X_test, y_train, y_test = train_test_split(X, y, test_size=0.37, random_state = 5762)\n",
    "\n",
    "modelo_svc.fit(X_train, y_train)\n",
    "\n",
    "y_pred = modelo_svc.predict(X_test)\n",
    "\n",
    "\n",
    " #Calcula a acurácia\n",
    "acuracia = accuracy_score(y_test, y_pred)\n",
    "print(\"Acurácia: {:.2f}%\".format(acuracia * 100))\n",
    "\n",
    " #Calcula a precisão\n",
    "precisao = precision_score(y_test, y_pred)\n",
    "print(\"Precisão: {:.2f}%\".format(precisao * 100))\n",
    "\n",
    " #Calcula o recall\n",
    "recall = recall_score(y_test, y_pred)\n",
    "print(\"Recall: {:.2f}%\".format(recall * 100))\n",
    "\n",
    " #Calcula a medida F1\n",
    "f1 = f1_score(y_test, y_pred)\n",
    "print(\"F1: {:.2f}%\".format(f1 * 100))\n",
    "\n",
    " #Calcula a área sob a curva ROC (AUROC)\n",
    "auroc = roc_auc_score(y_test, y_pred)\n",
    "print(\"AUROC: {:.2f}%\".format(auroc * 100))"
   ]
  },
  {
   "cell_type": "code",
   "execution_count": 54,
   "metadata": {},
   "outputs": [
    {
     "name": "stdout",
     "output_type": "stream",
     "text": [
      "Para o n_clusters = 2 A média do silhouette_score é : 0.5027740345905246 e A média do davies_bouldin_score é: 0.7234249737352209 A média do mutual_info_score é : 0.6074642687464912\n",
      "Para o n_clusters = 3 A média do silhouette_score é : 0.4204361167334279 e A média do davies_bouldin_score é: 0.769589400285806 A média do mutual_info_score é : 0.671685698547302\n",
      "Para o n_clusters = 4 A média do silhouette_score é : 0.4022392238287289 e A média do davies_bouldin_score é: 0.7953648418709272 A média do mutual_info_score é : 0.9811642242879363\n",
      "Para o n_clusters = 5 A média do silhouette_score é : 0.32687111677736874 e A média do davies_bouldin_score é: 0.957290449861306 A média do mutual_info_score é : 1.1522220955057354\n",
      "Para o n_clusters = 6 A média do silhouette_score é : 0.2655344488123591 e A média do davies_bouldin_score é: 1.1099821489430737 A média do mutual_info_score é : 1.373788961756275\n"
     ]
    }
   ],
   "source": [
    "# Pergunta 12/13/14/15\n",
    "\n",
    "# Avaliando o dataset Diabetes com Linear Regression\n",
    "\n",
    "\n",
    "X = wine.iloc[:, :-1]\n",
    "y = wine.iloc[:, -1]\n",
    "\n",
    "modelo_knn = KMeans(random_state = 5762)\n",
    "\n",
    "X_train, X_test, y_train, y_test = train_test_split(X, y, test_size=0.37, random_state = 5762)\n",
    "\n",
    "\n",
    "range_n_clusters = [2, 3, 4, 5, 6]\n",
    "\n",
    "for n_clusters in range_n_clusters:\n",
    "\n",
    "    clusterer = KMeans(n_clusters=n_clusters, n_init=\"auto\", random_state=5762)\n",
    "    cluster_labels = clusterer.fit_predict(X)\n",
    "\n",
    "    silhouette_avg = silhouette_score(X, cluster_labels)\n",
    "    mutual_info_score_avg = mutual_info_score(y_test, clusterer.fit_predict(X_test))\n",
    "\n",
    "    # O valor do silhouette_score varia de -1 a 1. Um valor de +1 indica que o ponto está muito bem ajustado em seu cluster e muito distante dos pontos em outros clusters. \n",
    "    # Um valor de -1 indica que o ponto pode estar no cluster errado.\n",
    "    davies_bouldin_avg = davies_bouldin_score(X, cluster_labels)\n",
    "    print(\"Para o n_clusters =\", n_clusters, \"A média do silhouette_score é :\",silhouette_avg, \"e A média do davies_bouldin_score é:\",davies_bouldin_avg, \"A média do mutual_info_score é :\",mutual_info_score_avg )\n",
    "\n",
    "    #O davies_bouldin_score é uma métrica que calcula a relação entre a dispersão dentro dos clusters e a dispersão entre os clusters, e quanto menor o score, melhor o desempenho do modelo.\n",
    "\n",
    "    # valor do mutual_info_score varia de 0 a 1, sendo que um valor mais alto indica uma melhor correspondência entre as etiquetas reais e as etiquetas previstas.\n",
    "\n"
   ]
  },
  {
   "cell_type": "code",
   "execution_count": null,
   "metadata": {},
   "outputs": [],
   "source": []
  }
 ],
 "metadata": {
  "kernelspec": {
   "display_name": "Python 3",
   "language": "python",
   "name": "python3"
  },
  "language_info": {
   "codemirror_mode": {
    "name": "ipython",
    "version": 3
   },
   "file_extension": ".py",
   "mimetype": "text/x-python",
   "name": "python",
   "nbconvert_exporter": "python",
   "pygments_lexer": "ipython3",
   "version": "3.11.2"
  },
  "orig_nbformat": 4
 },
 "nbformat": 4,
 "nbformat_minor": 2
}
